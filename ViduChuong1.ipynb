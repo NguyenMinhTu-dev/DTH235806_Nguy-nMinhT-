{
 "cells": [
  {
   "cell_type": "code",
   "id": "initial_id",
   "metadata": {
    "collapsed": true,
    "ExecuteTime": {
     "end_time": "2025-08-31T05:37:05.425082Z",
     "start_time": "2025-08-31T05:37:05.415549Z"
    }
   },
   "source": "print(\"Alberth Einstein đã từng nói: Một người không bao giờ mắc sai lầm không bao giờ thử được điều gì mới.\")",
   "outputs": [
    {
     "name": "stdout",
     "output_type": "stream",
     "text": [
      "Alberth Einstein đã từng nói: Một người không bao giờ mắc sai lầm không bao giờ thử được điều gì mới.\n"
     ]
    }
   ],
   "execution_count": 1
  },
  {
   "metadata": {
    "ExecuteTime": {
     "end_time": "2025-08-31T05:37:22.009051Z",
     "start_time": "2025-08-31T05:37:22.001927Z"
    }
   },
   "cell_type": "code",
   "source": [
    "if 5>2:\n",
    "    print(\"Five is greater than two!\")"
   ],
   "id": "c801f52909a15427",
   "outputs": [
    {
     "name": "stdout",
     "output_type": "stream",
     "text": [
      "Five is greater than two!\n"
     ]
    }
   ],
   "execution_count": 2
  },
  {
   "metadata": {
    "ExecuteTime": {
     "end_time": "2025-08-31T05:37:54.177125Z",
     "start_time": "2025-08-31T05:37:54.172991Z"
    }
   },
   "cell_type": "code",
   "source": [
    "total = 1 +\\\n",
    "        2 + \\\n",
    "        3\n",
    "print(total); print(\"Hello Python\")"
   ],
   "id": "76bcdd6dbd4cd7c6",
   "outputs": [
    {
     "name": "stdout",
     "output_type": "stream",
     "text": [
      "6\n",
      "Hello Python\n"
     ]
    }
   ],
   "execution_count": 3
  },
  {
   "metadata": {},
   "cell_type": "code",
   "outputs": [],
   "execution_count": null,
   "source": "",
   "id": "c43f691903c51f66"
  },
  {
   "metadata": {
    "ExecuteTime": {
     "end_time": "2025-08-31T05:38:13.921253Z",
     "start_time": "2025-08-31T05:38:13.901693Z"
    }
   },
   "cell_type": "code",
   "source": [
    "if True:\n",
    "    print(\"True\")\n",
    "else:\n",
    "    print(\"False\")"
   ],
   "id": "ca786d734bb4c2ed",
   "outputs": [
    {
     "name": "stdout",
     "output_type": "stream",
     "text": [
      "True\n"
     ]
    }
   ],
   "execution_count": 4
  },
  {
   "metadata": {
    "ExecuteTime": {
     "end_time": "2025-08-31T05:38:24.563780Z",
     "start_time": "2025-08-31T05:38:24.551376Z"
    }
   },
   "cell_type": "code",
   "source": [
    "# This is a comment\n",
    "print(\"Hello, World!\")"
   ],
   "id": "49c4f117a656ea0c",
   "outputs": [
    {
     "name": "stdout",
     "output_type": "stream",
     "text": [
      "Hello, World!\n"
     ]
    }
   ],
   "execution_count": 5
  },
  {
   "metadata": {
    "ExecuteTime": {
     "end_time": "2025-08-31T05:38:52.105191Z",
     "start_time": "2025-08-31T05:38:52.097979Z"
    }
   },
   "cell_type": "code",
   "source": [
    "import math_libs\n",
    "math_libs.add(4,5)"
   ],
   "id": "13d532717b1f1c12",
   "outputs": [
    {
     "data": {
      "text/plain": [
       "9"
      ]
     },
     "execution_count": 6,
     "metadata": {},
     "output_type": "execute_result"
    }
   ],
   "execution_count": 6
  }
 ],
 "metadata": {
  "kernelspec": {
   "display_name": "Python 3",
   "language": "python",
   "name": "python3"
  },
  "language_info": {
   "codemirror_mode": {
    "name": "ipython",
    "version": 2
   },
   "file_extension": ".py",
   "mimetype": "text/x-python",
   "name": "python",
   "nbconvert_exporter": "python",
   "pygments_lexer": "ipython2",
   "version": "2.7.6"
  }
 },
 "nbformat": 4,
 "nbformat_minor": 5
}
